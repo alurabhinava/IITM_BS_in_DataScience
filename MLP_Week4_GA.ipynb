{
  "nbformat": 4,
  "nbformat_minor": 0,
  "metadata": {
    "colab": {
      "provenance": [],
      "authorship_tag": "ABX9TyN4yZM8KuV3UZGly+pLVVA5",
      "include_colab_link": true
    },
    "kernelspec": {
      "name": "python3",
      "display_name": "Python 3"
    },
    "language_info": {
      "name": "python"
    }
  },
  "cells": [
    {
      "cell_type": "markdown",
      "metadata": {
        "id": "view-in-github",
        "colab_type": "text"
      },
      "source": [
        "<a href=\"https://colab.research.google.com/github/alurabhinava/IITM_BS_in_DataScience/blob/MachineLearningPractice/MLP_Week4_GA.ipynb\" target=\"_parent\"><img src=\"https://colab.research.google.com/assets/colab-badge.svg\" alt=\"Open In Colab\"/></a>"
      ]
    },
    {
      "cell_type": "code",
      "execution_count": null,
      "metadata": {
        "id": "4d9qeAboD-Lh"
      },
      "outputs": [],
      "source": [
        "# prompt: Use California housing dataset\n",
        "\n",
        "from sklearn.datasets import fetch_california_housing\n",
        "cali_housing = fetch_california_housing()\n"
      ]
    },
    {
      "cell_type": "code",
      "source": [
        "# prompt: split the data with test_size=0.2, shuffle=False, random_state=0\n",
        "\n",
        "from sklearn.model_selection import train_test_split\n",
        "\n",
        "X_train, X_test, y_train, y_test = train_test_split(cali_housing.data, cali_housing.target,\n",
        "                                                    test_size=0.2, shuffle=False, random_state=0)\n"
      ],
      "metadata": {
        "id": "IVnK7GqbETRa"
      },
      "execution_count": null,
      "outputs": []
    },
    {
      "cell_type": "code",
      "source": [
        "# prompt: If we use StandardScaler for preprocessing and LinearRegression for fitting the model\n",
        "# what is the R squared value for predictions obtained using test set features\n",
        "\n",
        "from sklearn.preprocessing import StandardScaler\n",
        "from sklearn.linear_model import LinearRegression\n",
        "\n",
        "scaler = StandardScaler()\n",
        "X_train_scaled = scaler.fit_transform(X_train)\n",
        "X_test_scaled = scaler.transform(X_test)\n",
        "\n",
        "model = LinearRegression()\n",
        "model.fit(X_train_scaled, y_train)\n",
        "\n",
        "r_squared = model.score(X_test_scaled, y_test)\n",
        "print(f\"R squared value: {r_squared}\")\n"
      ],
      "metadata": {
        "colab": {
          "base_uri": "https://localhost:8080/"
        },
        "id": "0bf0bo1HEj0W",
        "outputId": "4d455ed1-5299-4608-ccc7-df976a6027b4"
      },
      "execution_count": null,
      "outputs": [
        {
          "output_type": "stream",
          "name": "stdout",
          "text": [
            "R squared value: 0.6605140591531986\n"
          ]
        }
      ]
    },
    {
      "cell_type": "code",
      "source": [
        "# prompt: what is the root mean squared error value for predictions obtained using test set features\n",
        "\n",
        "import numpy as np\n",
        "from sklearn.metrics import mean_squared_error\n",
        "\n",
        "y_pred = model.predict(X_test_scaled)\n",
        "mse = mean_squared_error(y_test, y_pred)\n",
        "rmse = np.sqrt(mse)\n",
        "\n",
        "print(f\"Root mean squared error: {rmse}\")\n"
      ],
      "metadata": {
        "colab": {
          "base_uri": "https://localhost:8080/"
        },
        "id": "urg9lKD1E8Id",
        "outputId": "7e7b64b1-7137-4e52-d6d6-605f786a4e72"
      },
      "execution_count": null,
      "outputs": [
        {
          "output_type": "stream",
          "name": "stdout",
          "text": [
            "Root mean squared error: 0.7033383507521884\n"
          ]
        }
      ]
    },
    {
      "cell_type": "code",
      "source": [
        "# prompt: Explained Variance score\n",
        "\n",
        "from sklearn.metrics import r2_score\n",
        "\n",
        "explained_var_score = r2_score(y_test, y_pred)\n",
        "print(f\"Explained variance score: {explained_var_score}\")\n"
      ],
      "metadata": {
        "colab": {
          "base_uri": "https://localhost:8080/"
        },
        "id": "rEBkC83BFKTL",
        "outputId": "457d0550-3d70-47b3-d8da-a3e33ebe880d"
      },
      "execution_count": null,
      "outputs": [
        {
          "output_type": "stream",
          "name": "stdout",
          "text": [
            "Explained variance score: 0.6605140591531986\n"
          ]
        }
      ]
    },
    {
      "cell_type": "code",
      "source": [
        "# prompt: Max Error\n",
        "\n",
        "import numpy as np\n",
        "max_error = np.max(np.abs(y_test - y_pred))\n",
        "print(f\"Max error: {max_error}\")\n"
      ],
      "metadata": {
        "colab": {
          "base_uri": "https://localhost:8080/"
        },
        "id": "D5fDDHwEFPxF",
        "outputId": "471a1df8-238f-4a98-ee23-e9beba580514"
      },
      "execution_count": null,
      "outputs": [
        {
          "output_type": "stream",
          "name": "stdout",
          "text": [
            "Max error: 7.2604532929585535\n"
          ]
        }
      ]
    },
    {
      "cell_type": "code",
      "source": [
        "# prompt: Mean Absolute Error\n",
        "\n",
        "from sklearn.metrics import mean_absolute_error\n",
        "mae = mean_absolute_error(y_test, y_pred)\n",
        "print(f\"Mean absolute error: {mae}\")\n"
      ],
      "metadata": {
        "colab": {
          "base_uri": "https://localhost:8080/"
        },
        "id": "im-ogEYiFV3O",
        "outputId": "8ec644fe-08c8-4315-9b71-8a3137cec507"
      },
      "execution_count": null,
      "outputs": [
        {
          "output_type": "stream",
          "name": "stdout",
          "text": [
            "Mean absolute error: 0.5168526993787044\n"
          ]
        }
      ]
    },
    {
      "cell_type": "code",
      "source": [
        "# prompt: Mean Squared Error\n",
        "\n",
        "mse = mean_squared_error(y_test, y_pred)\n",
        "print(f\"Mean squared error: {mse}\")\n"
      ],
      "metadata": {
        "colab": {
          "base_uri": "https://localhost:8080/"
        },
        "id": "0Z6AnD0bFb3w",
        "outputId": "fe64fef2-9d6a-4e5d-dfa8-a9c5b738535a"
      },
      "execution_count": null,
      "outputs": [
        {
          "output_type": "stream",
          "name": "stdout",
          "text": [
            "Mean squared error: 0.4946848356388085\n"
          ]
        }
      ]
    },
    {
      "cell_type": "code",
      "source": [
        "# prompt:  perform SGD Regression with default hyperparameters and random_state=0.\n",
        "\n",
        "import numpy as np\n",
        "from sklearn.linear_model import SGDRegressor\n",
        "\n",
        "sgd_model = SGDRegressor(random_state=0)\n",
        "sgd_model.fit(X_train_scaled, y_train)\n",
        "\n",
        "y_pred_sgd = sgd_model.predict(X_test_scaled)\n",
        "\n",
        "mse_sgd = mean_squared_error(y_test, y_pred_sgd)\n",
        "rmse_sgd = np.sqrt(mse_sgd)\n",
        "\n",
        "print(f\"SGD Regression - Root mean squared error: {rmse_sgd}\")\n"
      ],
      "metadata": {
        "colab": {
          "base_uri": "https://localhost:8080/"
        },
        "id": "jqlm6lkqFjxD",
        "outputId": "520e5f99-085d-4826-8b18-0221fc6e555a"
      },
      "execution_count": null,
      "outputs": [
        {
          "output_type": "stream",
          "name": "stdout",
          "text": [
            "SGD Regression - Root mean squared error: 0.6989682089940397\n"
          ]
        }
      ]
    },
    {
      "cell_type": "code",
      "source": [
        "# prompt: What is the bias term in SGD regression\n",
        "\n",
        "bias_term = sgd_model.intercept_\n",
        "print(f\"Bias term: {bias_term}\")\n"
      ],
      "metadata": {
        "colab": {
          "base_uri": "https://localhost:8080/"
        },
        "id": "XZFVjvDJFuFN",
        "outputId": "d29eb0b6-80d4-4a66-b1fc-fcd7df9885d7"
      },
      "execution_count": null,
      "outputs": [
        {
          "output_type": "stream",
          "name": "stdout",
          "text": [
            "Bias term: [2.01123921]\n"
          ]
        }
      ]
    },
    {
      "cell_type": "code",
      "source": [
        "# prompt: What are the coefficients in SGD predicted model\n",
        "\n",
        "sgd_coefficients = sgd_model.coef_\n",
        "print(f\"Coefficients in SGD predicted model: {sgd_coefficients}\")\n"
      ],
      "metadata": {
        "colab": {
          "base_uri": "https://localhost:8080/"
        },
        "id": "aQ6B27x7F-Pn",
        "outputId": "93eefc16-2c21-419b-8010-94d432df8141"
      },
      "execution_count": null,
      "outputs": [
        {
          "output_type": "stream",
          "name": "stdout",
          "text": [
            "Coefficients in SGD predicted model: [ 0.84046697  0.112331   -0.41213039  0.21595971 -0.01781887 -0.01480892\n",
            " -0.87394103 -0.83913104]\n"
          ]
        }
      ]
    }
  ]
}